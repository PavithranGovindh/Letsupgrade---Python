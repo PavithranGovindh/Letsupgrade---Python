{
  "nbformat": 4,
  "nbformat_minor": 0,
  "metadata": {
    "colab": {
      "name": "Day 6 - Assignments.ipynb",
      "provenance": [],
      "collapsed_sections": []
    },
    "kernelspec": {
      "name": "python3",
      "display_name": "Python 3"
    }
  },
  "cells": [
    {
      "cell_type": "markdown",
      "metadata": {
        "id": "4da3abokE6pN",
        "colab_type": "text"
      },
      "source": [
        "# ***Assignment 1***"
      ]
    },
    {
      "cell_type": "code",
      "metadata": {
        "id": "ERHlWff23F5r",
        "colab_type": "code",
        "colab": {
          "base_uri": "https://localhost:8080/",
          "height": 340
        },
        "outputId": "e6db0e73-0f25-402b-92a8-77f008577e00"
      },
      "source": [
        "#create bank acc class- attributes owner name and balance\n",
        "#methods 1.deposit  2.withdrawal\n",
        "#withdrawal should not exceed available balance\n",
        "\n",
        "class bankAccount():\n",
        "\n",
        "  def __init__(self,ownerName = 'Blank',balance=0):\n",
        "    self.ownerName = ownerName\n",
        "    self.balance = balance\n",
        "\n",
        "  def deposit(self,depositAmount):\n",
        "    print(\"\\nInitial Balance : \" , self.balance)\n",
        "    self.balance +=depositAmount\n",
        "    print(\"Amount deposited : \" , depositAmount , \"\\nAvailable balance : \" ,self.balance)\n",
        "\n",
        "  def withdrawal(self,withdrawalAmount):\n",
        "    if self.balance > withdrawalAmount:\n",
        "      print(\"\\nInitial Balance : \" , self.balance)\n",
        "      self.balance -=withdrawalAmount\n",
        "      print(\"Amount withdrawn : \",withdrawalAmount)\n",
        "      print(\"Available balance :\",self.balance)\n",
        "    else:\n",
        "      print(\"\\nLow balance \\nEnter the amount less than \",self.balance)\n",
        "\n",
        "\n",
        "customer1 = bankAccount(\"Pavi\",50)\n",
        "\n",
        "customer1.deposit(30)\n",
        "customer1.deposit(20)\n",
        "customer1.deposit(40)\n",
        "customer1.withdrawal(30)\n",
        "customer1.withdrawal(130)\n",
        "\n",
        "\n",
        "\n",
        "\n"
      ],
      "execution_count": null,
      "outputs": [
        {
          "output_type": "stream",
          "text": [
            "\n",
            "Initial Balance :  50\n",
            "Amount deposited :  30 \n",
            "Available balance :  80\n",
            "\n",
            "Initial Balance :  80\n",
            "Amount deposited :  20 \n",
            "Available balance :  100\n",
            "\n",
            "Initial Balance :  100\n",
            "Amount deposited :  40 \n",
            "Available balance :  140\n",
            "\n",
            "Initial Balance :  140\n",
            "Amount withdrawn :  30\n",
            "Available balance : 110\n",
            "\n",
            "Low balance \n",
            "Enter the amount less than  110\n"
          ],
          "name": "stdout"
        }
      ]
    },
    {
      "cell_type": "markdown",
      "metadata": {
        "id": "SfYFxj0zFHXz",
        "colab_type": "text"
      },
      "source": [
        "# ***Assignment 2***"
      ]
    },
    {
      "cell_type": "code",
      "metadata": {
        "id": "i44JUt4t1Y86",
        "colab_type": "code",
        "colab": {
          "base_uri": "https://localhost:8080/",
          "height": 153
        },
        "outputId": "f1d0d2ac-769c-417e-c67d-12db2da8757c"
      },
      "source": [
        "#create cone class - attributes r and h\n",
        "# methods 1. volume pi r2 h / 3 || 2. surface area base: pi r2 side:pi r sqrt(r2 h2)\n",
        "#import math fns\n",
        "\n",
        "\n",
        "class cone():\n",
        "  import math\n",
        "  def __init__(self,radius = 1,height = 1):\n",
        "    self.radius = radius\n",
        "    self.height = height\n",
        "  def volume(self):\n",
        "    print(\"\\nVolume of cone : \",round((math.pi*(self.radius**2)*self.height)/3,3))\n",
        "  def surfaceArea(self):\n",
        "    print(\"Surface area Base : \",round(math.pi*(self.radius**2),3))\n",
        "    print(\"Surface area sides : \",round(math.pi * self.radius * math.sqrt(self.radius**2 + self.height**2),3))\n",
        "\n",
        "\n",
        "coneSpec = cone()\n",
        "coneSpec.volume()\n",
        "coneSpec.surfaceArea()\n",
        "\n",
        "coneSpec1 = cone(7,5)\n",
        "coneSpec1.volume()\n",
        "coneSpec1.surfaceArea()\n",
        "\n"
      ],
      "execution_count": null,
      "outputs": [
        {
          "output_type": "stream",
          "text": [
            "\n",
            "Volume of cone :  1.047\n",
            "Surface area Base :  3.142\n",
            "Surface area sides :  4.443\n",
            "\n",
            "Volume of cone :  256.563\n",
            "Surface area Base :  153.938\n",
            "Surface area sides :  189.175\n"
          ],
          "name": "stdout"
        }
      ]
    }
  ]
}