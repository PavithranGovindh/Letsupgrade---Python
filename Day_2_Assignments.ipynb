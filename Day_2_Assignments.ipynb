{
  "nbformat": 4,
  "nbformat_minor": 0,
  "metadata": {
    "colab": {
      "name": "Day 2 - Assignments .ipynb",
      "provenance": [],
      "toc_visible": true,
      "authorship_tag": "ABX9TyOCo7ejm0NylSY5LSizwoaO"
    },
    "kernelspec": {
      "name": "python3",
      "display_name": "Python 3"
    }
  },
  "cells": [
    {
      "cell_type": "markdown",
      "metadata": {
        "id": "8w0z7I1HGxTJ",
        "colab_type": "text"
      },
      "source": [
        "# ***Lists***\n"
      ]
    },
    {
      "cell_type": "code",
      "metadata": {
        "id": "LbTkvzsKf-s_",
        "colab_type": "code",
        "colab": {
          "base_uri": "https://localhost:8080/",
          "height": 170
        },
        "outputId": "e70bd8c1-2e91-4a4b-e0c1-be44fa4af00d"
      },
      "source": [
        "randomList = ['Marudhav','Manoj','Subash',23.56,[5,2,3]]\n",
        "\n",
        "randomList.append('Manoj')\n",
        "print(\"Adding string to the List\\t :\",randomList)\n",
        "\n",
        "\n",
        "randomList.remove('Manoj')\n",
        "print(\"Updated List by removing a name  : \",randomList)\n",
        "\n",
        "\n",
        "randomList[3].sort()\n",
        "print(\"\\nSorting the subList in the List\\t\\t\\t: \",randomList)\n",
        " \n",
        "randomList[3].insert(0,6)\n",
        "print(\"Adding the numbers in the subList using index   : \", randomList)\n",
        "\n",
        "\n",
        "print(\"\\nTotal counts : \",randomList.count('Manoj'))\n",
        "\n",
        "print(\"Index of Manoj : \", randomList.index('Manoj'))\n",
        "\n",
        "randomList.clear()\n",
        "print(\"Clearing the entire List : \" ,randomList)\n",
        "\n"
      ],
      "execution_count": 80,
      "outputs": [
        {
          "output_type": "stream",
          "text": [
            "Adding string to the List\t : ['Marudhav', 'Manoj', 'Subash', 23.56, [5, 2, 3], 'Manoj']\n",
            "Updated List by removing a name  :  ['Marudhav', 'Subash', 23.56, [5, 2, 3], 'Manoj']\n",
            "\n",
            "Sorting the subList in the List\t\t\t:  ['Marudhav', 'Subash', 23.56, [2, 3, 5], 'Manoj']\n",
            "Adding the numbers in the subList using index   :  ['Marudhav', 'Subash', 23.56, [6, 2, 3, 5], 'Manoj']\n",
            "\n",
            "Total counts :  1\n",
            "Index of Manoj :  4\n",
            "Clearing the entire List :  []\n"
          ],
          "name": "stdout"
        }
      ]
    },
    {
      "cell_type": "markdown",
      "metadata": {
        "id": "PnB3GHAHG9a0",
        "colab_type": "text"
      },
      "source": [
        ""
      ]
    },
    {
      "cell_type": "markdown",
      "metadata": {
        "id": "b99CnideG_-0",
        "colab_type": "text"
      },
      "source": [
        "# ***Dicts***"
      ]
    },
    {
      "cell_type": "code",
      "metadata": {
        "id": "5eGGoud-RUM3",
        "colab_type": "code",
        "colab": {
          "base_uri": "https://localhost:8080/",
          "height": 102
        },
        "outputId": "4e39205b-a091-4320-f242-4de269e43f85"
      },
      "source": [
        "student1 = {'name':'Ravi','rollNo': 85,'college':'Kumaraguru'}\n",
        "\n",
        "student2 = student1.copy()\n",
        "print(\"Copied dict student2\\t\\t\\t: \",student2)\n",
        "\n",
        "student2['address']='Cbe'\n",
        "student2['cgpa'] = 8.5\n",
        "\n",
        "print(\"Keys in the Dict student2\\t\\t: \",student2.keys())\n",
        "\n",
        "student2.pop('rollNo')\n",
        "print(\"After poping the rollNo from student2\\t: \",student2)\n",
        "\n",
        "student2.setdefault('scholarShip') \n",
        "print(\"Setting the default value for Keys\\t: \",student2)\n",
        "\n",
        "student2.update(dept='ECE',section='C')\n",
        "print(\"Values in student2 \\t\\t\\t: \", student2.values())\n",
        "\n"
      ],
      "execution_count": 129,
      "outputs": [
        {
          "output_type": "stream",
          "text": [
            "Copied dict student2\t\t\t:  {'name': 'Ravi', 'rollNo': 85, 'college': 'Kumaraguru'}\n",
            "Keys in the Dict student2\t\t:  dict_keys(['name', 'rollNo', 'college', 'address', 'cgpa'])\n",
            "After poping the rollNo from student2\t:  {'name': 'Ravi', 'college': 'Kumaraguru', 'address': 'Cbe', 'cgpa': 8.5}\n",
            "Setting the default value for Keys\t:  {'name': 'Ravi', 'college': 'Kumaraguru', 'address': 'Cbe', 'cgpa': 8.5, 'scholarShip': None}\n",
            "Values in student2 \t\t\t:  dict_values(['Ravi', 'Kumaraguru', 'Cbe', 8.5, None, 'ECE', 'C'])\n"
          ],
          "name": "stdout"
        }
      ]
    },
    {
      "cell_type": "markdown",
      "metadata": {
        "id": "j1AL_td-YHDz",
        "colab_type": "text"
      },
      "source": [
        "# ***Sets***"
      ]
    },
    {
      "cell_type": "code",
      "metadata": {
        "id": "iSGNvyx7jRnZ",
        "colab_type": "code",
        "colab": {
          "base_uri": "https://localhost:8080/",
          "height": 204
        },
        "outputId": "934ffa4e-c0bc-4406-9934-bda18b5b83d4"
      },
      "source": [
        "set1 = {\"Jan\",\"Feb\",\"Mar\", \"April\"}    \n",
        "set2 = {\"Jun\", \"May\", \"April\"}    \n",
        "\n",
        "print(\"Symetric diffrence in the sets  : \",set1.symmetric_difference(set2))\n",
        "print(\"Common month in the sets\\t: \", set1.intersection(set2))\n",
        "\n",
        "set3=set1.union(set2)\n",
        "print(\"\\nUnique values in the sets\\t: \",set3 )\n",
        "\n",
        "set3.update([\"July\",\"August\"])\n",
        "print(\"Total months after including\\t: \", set3)\n",
        "\n",
        "print(\"\\nSet3 is Subset of set1\\t\\t: \",set3.issubset(set1))\n",
        "set3.discard('Feb')\n",
        "print(\"After discarding the element    : \",set3)\n",
        "\n",
        "print(\"\\npopped element\\t\\t : \",set3.pop(),\"\\nAfter poping the element : \", set3)\n",
        "\n",
        "\n"
      ],
      "execution_count": 107,
      "outputs": [
        {
          "output_type": "stream",
          "text": [
            "Symetric diffrence in the sets  :  {'Feb', 'May', 'Jan', 'Jun', 'Mar'}\n",
            "Common month in the sets\t:  {'April'}\n",
            "\n",
            "Unique values in the sets\t:  {'May', 'Feb', 'Jan', 'April', 'Jun', 'Mar'}\n",
            "Total months after including\t:  {'July', 'May', 'August', 'Feb', 'Jan', 'April', 'Jun', 'Mar'}\n",
            "\n",
            "Set3 is Subset of set1\t\t:  False\n",
            "After discarding the element    :  {'July', 'May', 'August', 'Jan', 'April', 'Jun', 'Mar'}\n",
            "\n",
            "popped element\t\t :  July \n",
            "After poping the element :  {'May', 'August', 'Jan', 'April', 'Jun', 'Mar'}\n"
          ],
          "name": "stdout"
        }
      ]
    },
    {
      "cell_type": "markdown",
      "metadata": {
        "id": "l9QhhM4jYK9R",
        "colab_type": "text"
      },
      "source": [
        "# ***Tuple***"
      ]
    },
    {
      "cell_type": "code",
      "metadata": {
        "id": "u587xTZxbb89",
        "colab_type": "code",
        "colab": {
          "base_uri": "https://localhost:8080/",
          "height": 153
        },
        "outputId": "c2071286-559d-4051-b97b-cf5606f89616"
      },
      "source": [
        "randomNumbers = [24,38,76,29,2,2,24]\n",
        "\n",
        "numbers = tuple(randomNumbers)\n",
        "print(\"Converting List as Tuple : \", numbers)\n",
        "print(\"Total Length : \",len(numbers))\n",
        "\n",
        "print(\"\\nMinimum number in the tuple : \",min(numbers))\n",
        "print(\"Maximum number in the tuple : \",max(numbers))\n",
        "\n",
        "print(\"\\nNumber of 2s : \",numbers.count(2))\n",
        "print(\"Index of 38  : \",numbers.index(38) )\n",
        "\n"
      ],
      "execution_count": 110,
      "outputs": [
        {
          "output_type": "stream",
          "text": [
            "Converting List as Tuple :  (24, 38, 76, 29, 2, 2, 24)\n",
            "Total Length :  7\n",
            "\n",
            "Minimum number in the tuple :  2\n",
            "Maximum number in the tuple :  76\n",
            "\n",
            "Number of 2s :  2\n",
            "Index of 38  :  1\n"
          ],
          "name": "stdout"
        }
      ]
    },
    {
      "cell_type": "markdown",
      "metadata": {
        "id": "OmJt5myXYQqn",
        "colab_type": "text"
      },
      "source": [
        "# ***Strings***"
      ]
    },
    {
      "cell_type": "code",
      "metadata": {
        "id": "TPqBv03gYpX2",
        "colab_type": "code",
        "colab": {
          "base_uri": "https://localhost:8080/",
          "height": 238
        },
        "outputId": "3c4ce16a-d49f-46ba-fc38-a8c591e6f0c2"
      },
      "source": [
        "randomString = \"heLlo How aRe yoU ?\"\n",
        "randomString2 = \"2020\"\n",
        "randomString3 = \"Domo\"\n",
        "print('Capitalize the starting letter in a string :',randomString.capitalize())\n",
        "\n",
        "print(\"finding the string '\",randomString2,\"' is suitable as a identifier :\",randomString2.isidentifier())\n",
        "print(\"finding the string '\",randomString3,\"' is suitable as a identifier :\",randomString3.isidentifier())\n",
        "\n",
        "print(\"\\nSwaping the cases in a string\\t\\t:\",randomString.swapcase())\n",
        "\n",
        "print(\"Checking the string contains digits     : \",randomString2.isdigit())\n",
        "print(\"Checking the string contains decimals   : \",randomString2.isdecimal())\n",
        "\n",
        "print(\"\\nAligning the string : \",randomString.center(25,'#'))\n",
        "\n",
        "print(\"Counting the characters in a string with index range : \",randomString.count('o',5,12))\n",
        "\n",
        "print(\"\\nBefore replacement : \",randomString3,\"\\nAfter Replacing the characters in a string : \",randomString3.replace('o','O'))\n"
      ],
      "execution_count": 72,
      "outputs": [
        {
          "output_type": "stream",
          "text": [
            "Capitalize the starting letter in a string : Hello how are you ?\n",
            "finding the string ' 2020 ' is suitable as a identifier : False\n",
            "finding the string ' Domo ' is suitable as a identifier : True\n",
            "\n",
            "Swaping the cases in a string\t\t: HElLO hOW ArE YOu ?\n",
            "Checking the string contains digits     :  True\n",
            "Checking the string contains decimals   :  True\n",
            "\n",
            "Aligning the string :  ###heLlo How aRe yoU ?###\n",
            "Counting the characters in a string with index range :  1\n",
            "\n",
            "Before replacement :  Domo \n",
            "After Replacing the characters in a string :  DOmO\n"
          ],
          "name": "stdout"
        }
      ]
    }
  ]
}