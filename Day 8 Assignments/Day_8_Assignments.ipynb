{
  "nbformat": 4,
  "nbformat_minor": 0,
  "metadata": {
    "colab": {
      "name": "Day 8_Assignments.ipynb",
      "provenance": [],
      "collapsed_sections": []
    },
    "kernelspec": {
      "name": "python3",
      "display_name": "Python 3"
    }
  },
  "cells": [
    {
      "cell_type": "markdown",
      "metadata": {
        "id": "f9FEZS7JigpM",
        "colab_type": "text"
      },
      "source": [
        "# ***Assignment 1***"
      ]
    },
    {
      "cell_type": "code",
      "metadata": {
        "id": "yEsjwWzuicuE",
        "colab_type": "code",
        "colab": {
          "base_uri": "https://localhost:8080/",
          "height": 476
        },
        "outputId": "b9a232f4-0b70-433e-bb90-3f38f203f502"
      },
      "source": [
        "#decorator function for taking input\n",
        "\n",
        "\n",
        "def calculate(tempFunction):\n",
        "  def getInput():\n",
        "    a=int(input(\"\\nEnter the starting value  : \"))\n",
        "    b=int(input(\"Enter the limit value\\t:\"))\n",
        "    tempFunction(a,b)\n",
        "  return getInput\n",
        "\n",
        "@calculate\n",
        "def primeNumber(start,end):\n",
        "  temp = start\n",
        "  print(\"\\nPrime number between \",start,\" and \",end,\" :\")\n",
        "  for i in range(start,end):\n",
        "    for temp in range(2,i):\n",
        "      if i%temp==0 :\n",
        "        break\n",
        "    else:\n",
        "        print(i,\" \")\n",
        "\n",
        "\n",
        "@calculate\n",
        "def fibanocci(start,end):\n",
        "  print(\"\\nFibanocci value of a number between \",start,\" and \",end,\" :\")\n",
        "  for i in range(start,end+1):\n",
        "    fib=1\n",
        "    for temp in range (1,i+1):\n",
        "      fib = temp*fib\n",
        "    else:\n",
        "      print(fib)\n",
        "\n",
        "primeNumber()\n",
        "fibanocci()"
      ],
      "execution_count": null,
      "outputs": [
        {
          "output_type": "stream",
          "text": [
            "\n",
            "Enter the starting value  : 2\n",
            "Enter the limit value\t:30\n",
            "\n",
            "Prime number between  2  and  30  :\n",
            "2  \n",
            "3  \n",
            "5  \n",
            "7  \n",
            "11  \n",
            "13  \n",
            "17  \n",
            "19  \n",
            "23  \n",
            "29  \n",
            "\n",
            "Enter the starting value  : 2\n",
            "Enter the limit value\t:8\n",
            "\n",
            "Fibanocci value of a number between  2  and  8  :\n",
            "2\n",
            "6\n",
            "24\n",
            "120\n",
            "720\n",
            "5040\n",
            "40320\n"
          ],
          "name": "stdout"
        }
      ]
    },
    {
      "cell_type": "markdown",
      "metadata": {
        "id": "Gk5tRbcDik-8",
        "colab_type": "text"
      },
      "source": [
        "# ***Assignment 2***"
      ]
    },
    {
      "cell_type": "code",
      "metadata": {
        "id": "9H5kmfVRwR6T",
        "colab_type": "code",
        "colab": {
          "base_uri": "https://localhost:8080/",
          "height": 34
        },
        "outputId": "62ab5558-18e3-4aa9-a4be-895aea53948f"
      },
      "source": [
        "#Exception handling\n",
        "\n",
        "file = open(\"Example1.txt\",'w')\n",
        "\n",
        "try:\n",
        "  file.read(5)\n",
        "except:\n",
        "  print(\"UnsupportedOperation: not readable\")\n",
        "\n",
        "finally:\n",
        "  file.close()\n"
      ],
      "execution_count": null,
      "outputs": [
        {
          "output_type": "stream",
          "text": [
            "UnsupportedOperation: not readable\n"
          ],
          "name": "stdout"
        }
      ]
    },
    {
      "cell_type": "code",
      "metadata": {
        "id": "K9AhQF5fipak",
        "colab_type": "code",
        "colab": {
          "base_uri": "https://localhost:8080/",
          "height": 68
        },
        "outputId": "5c23962f-51f0-45a3-8e3e-9b80179086e6"
      },
      "source": [
        "\n",
        "try:  \n",
        "    a = int(100 / 1)\n",
        "    print (\"Value of a : \", a)\n",
        "    b = int(100 / 0)\n",
        "    print (\"Value of b : \", b)\n",
        "except ZeroDivisionError:  \n",
        "        print (\"ZeroDivisionError: division by zero\" )\n",
        "else:  \n",
        "    print(\"No error!\")\n",
        "finally:\n",
        "  print(\"Code Executed\")\n"
      ],
      "execution_count": null,
      "outputs": [
        {
          "output_type": "stream",
          "text": [
            "Value of a :  100\n",
            "ZeroDivisionError: division by zero\n",
            "Code Executed\n"
          ],
          "name": "stdout"
        }
      ]
    }
  ]
}