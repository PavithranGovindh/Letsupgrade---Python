{
  "nbformat": 4,
  "nbformat_minor": 0,
  "metadata": {
    "colab": {
      "name": "Day 4 - Assignment 1.ipynb",
      "provenance": [],
      "authorship_tag": "ABX9TyOKRKjGOQQvpHLvYDjr9DlR"
    },
    "kernelspec": {
      "name": "python3",
      "display_name": "Python 3"
    }
  },
  "cells": [
    {
      "cell_type": "code",
      "metadata": {
        "id": "Q2o_brzLe1wA",
        "colab_type": "code",
        "colab": {}
      },
      "source": [
        "# Printing the first armstrong number betn 1042000 to 702648265\n",
        "\n",
        "\n",
        "print(\"Domo\")\n",
        "\n",
        "for number in range (1042000,702648265):\n",
        "  cal = 0\n",
        "  temp = number\n",
        "  while (number > 0):\n",
        "    cal += ((number % 10) **3)\n",
        "    number = int(number/10)\n",
        "  if(temp == cal):\n",
        "    print(\"Armstrong number betwn the range : \", cal)\n",
        "  \n",
        "print(\"Execution complete\")\n",
        "  \n",
        " "
      ],
      "execution_count": null,
      "outputs": []
    }
  ]
}