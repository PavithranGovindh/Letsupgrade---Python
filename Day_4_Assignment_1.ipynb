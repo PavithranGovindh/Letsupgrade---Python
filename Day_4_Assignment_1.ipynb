{
  "nbformat": 4,
  "nbformat_minor": 0,
  "metadata": {
    "colab": {
      "name": "Day 4 - Assignment 1.ipynb",
      "provenance": [],
      "authorship_tag": "ABX9TyMi5VMfyA9IQ6EtCMymr23d",
      "include_colab_link": true
    },
    "kernelspec": {
      "name": "python3",
      "display_name": "Python 3"
    }
  },
  "cells": [
    {
      "cell_type": "markdown",
      "metadata": {
        "id": "view-in-github",
        "colab_type": "text"
      },
      "source": [
        "<a href=\"https://colab.research.google.com/github/PavithranGovindh/Letsupgrade---Python/blob/master/Day_4_Assignment_1.ipynb\" target=\"_parent\"><img src=\"https://colab.research.google.com/assets/colab-badge.svg\" alt=\"Open In Colab\"/></a>"
      ]
    },
    {
      "cell_type": "code",
      "metadata": {
        "id": "Q2o_brzLe1wA",
        "colab_type": "code",
        "colab": {}
      },
      "source": [
        "# Printing the first armstrong number betn 1042000 to 702648265\n",
        "\n",
        "\n",
        "print(\"Domo\")\n",
        "\n",
        "for number in range (1042000,702648265):\n",
        "  calNumber = 0\n",
        "  tempNumber = number\n",
        "  while (number > 0):\n",
        "    calNumber += ((number % 10) **3)\n",
        "    number = int(number/10)\n",
        "  if(tempNumber == calNumber):\n",
        "    print(\"Armstrong number betwn the range : \", calNumber)\n",
        "    break\n",
        "  \n",
        "print(\"Execution complete\")\n",
        "  \n",
        " "
      ],
      "execution_count": null,
      "outputs": []
    }
  ]
}