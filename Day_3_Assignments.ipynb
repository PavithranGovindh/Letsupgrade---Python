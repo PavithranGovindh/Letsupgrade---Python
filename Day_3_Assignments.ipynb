{
  "nbformat": 4,
  "nbformat_minor": 0,
  "metadata": {
    "colab": {
      "name": "Day 3 - Assignments.ipynb",
      "provenance": [],
      "collapsed_sections": [],
      "authorship_tag": "ABX9TyNF0bXO16gGDNnSPQt6MKWn"
    },
    "kernelspec": {
      "name": "python3",
      "display_name": "Python 3"
    }
  },
  "cells": [
    {
      "cell_type": "markdown",
      "metadata": {
        "id": "lI-taHRzTMwT",
        "colab_type": "text"
      },
      "source": [
        "# ***Assignment 1***"
      ]
    },
    {
      "cell_type": "code",
      "metadata": {
        "id": "YpemDIeAR-pm",
        "colab_type": "code",
        "colab": {
          "base_uri": "https://localhost:8080/",
          "height": 51
        },
        "outputId": "cde3cc45-84ce-4a13-f0f3-c382022dc672"
      },
      "source": [
        "# to direct the pilot based on altitude\n",
        "\n",
        "altitude = int(input(\"Enter the altitude: \"))\n",
        "\n",
        "if altitude <= 1000 :\n",
        "  print(\"Safe to land\")\n",
        "elif altitude > 1000 and altitude <= 5000:\n",
        "  print(\"Drop down to 1000ft\")\n",
        "else :\n",
        "  print('Turn around')"
      ],
      "execution_count": null,
      "outputs": [
        {
          "output_type": "stream",
          "text": [
            "Enter the altitude: 1000\n",
            "Safe to land\n"
          ],
          "name": "stdout"
        }
      ]
    },
    {
      "cell_type": "markdown",
      "metadata": {
        "id": "p-6odBSHTbpD",
        "colab_type": "text"
      },
      "source": [
        "# ***Assignment 2***"
      ]
    },
    {
      "cell_type": "code",
      "metadata": {
        "id": "s6G6pK_lTazL",
        "colab_type": "code",
        "colab": {
          "base_uri": "https://localhost:8080/",
          "height": 833
        },
        "outputId": "f4a00c81-44fa-40d2-cb90-32e7e23f119e"
      },
      "source": [
        "# print prime numbers using for loop and range\n",
        "\n",
        "print ('The Prime Numbers between 1 and 200 \\n')\n",
        "for number in range (2,200):\n",
        "  for temp in range (2,number):\n",
        "    if (number % temp) == 0:  \n",
        "               break  \n",
        "  else:  \n",
        "           print(number)  \n",
        "\n",
        "    "
      ],
      "execution_count": 3,
      "outputs": [
        {
          "output_type": "stream",
          "text": [
            "The Prime Numbers between 1 and 200 \n",
            "\n",
            "2\n",
            "3\n",
            "5\n",
            "7\n",
            "11\n",
            "13\n",
            "17\n",
            "19\n",
            "23\n",
            "29\n",
            "31\n",
            "37\n",
            "41\n",
            "43\n",
            "47\n",
            "53\n",
            "59\n",
            "61\n",
            "67\n",
            "71\n",
            "73\n",
            "79\n",
            "83\n",
            "89\n",
            "97\n",
            "101\n",
            "103\n",
            "107\n",
            "109\n",
            "113\n",
            "127\n",
            "131\n",
            "137\n",
            "139\n",
            "149\n",
            "151\n",
            "157\n",
            "163\n",
            "167\n",
            "173\n",
            "179\n",
            "181\n",
            "191\n",
            "193\n",
            "197\n",
            "199\n"
          ],
          "name": "stdout"
        }
      ]
    }
  ]
}