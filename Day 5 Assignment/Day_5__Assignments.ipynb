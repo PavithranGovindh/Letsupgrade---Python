{
  "nbformat": 4,
  "nbformat_minor": 0,
  "metadata": {
    "colab": {
      "name": "Day 5 _Assignments.ipynb",
      "provenance": [],
      "collapsed_sections": []
    },
    "kernelspec": {
      "name": "python3",
      "display_name": "Python 3"
    }
  },
  "cells": [
    {
      "cell_type": "markdown",
      "metadata": {
        "id": "yKfCaO-hMfMZ",
        "colab_type": "text"
      },
      "source": [
        "# ***Assignment 1***"
      ]
    },
    {
      "cell_type": "code",
      "metadata": {
        "id": "AgY9R7zk4i7i",
        "colab_type": "code",
        "colab": {
          "base_uri": "https://localhost:8080/",
          "height": 85
        },
        "outputId": "72eb81d2-5352-4055-d67d-22e9b53d5cfa"
      },
      "source": [
        "#identify sub list in same order\n",
        "\n",
        "\n",
        "#function\n",
        "def subList(templ1=[],templ2=[]):\n",
        "  count = 0\n",
        "  lst = templ2.copy()\n",
        "  for i in templ1:\n",
        "    for j in templ2:\n",
        "      if(i == j):\n",
        "        count+=1\n",
        "        temp=(templ2.index(j)+1)\n",
        "        for a in range(temp):\n",
        "          templ2.pop(0)\n",
        "        break\n",
        "\n",
        "  if count == len(templ1):\n",
        "    print(templ1,\" is a subset of \",lst,\" with same order\")\n",
        "  else:\n",
        "    print(templ1,\" is not a subset of \",lst,\" with same order\")\n",
        "\n",
        "\n",
        "#main\n",
        "\n",
        "lst1 = [1,2,1,5,9,8,5,7,3]\n",
        "\n",
        "lst2 = [3,8]\n",
        "lst3 = [1,9,5]\n",
        "lst4 = [2,7,9]\n",
        "lst5 = [0,4]\n",
        "\n",
        "subList(lst2,lst1.copy())\n",
        "subList(lst3,lst1.copy())\n",
        "subList(lst4,lst1.copy())\n",
        "subList(lst5,lst1.copy())"
      ],
      "execution_count": 78,
      "outputs": [
        {
          "output_type": "stream",
          "text": [
            "[3, 8]  is not a subset of  [1, 2, 1, 5, 9, 8, 5, 7, 3]  with same order\n",
            "[1, 9, 5]  is a subset of  [1, 2, 1, 5, 9, 8, 5, 7, 3]  with same order\n",
            "[2, 7, 9]  is not a subset of  [1, 2, 1, 5, 9, 8, 5, 7, 3]  with same order\n",
            "[0, 4]  is not a subset of  [1, 2, 1, 5, 9, 8, 5, 7, 3]  with same order\n"
          ],
          "name": "stdout"
        }
      ]
    },
    {
      "cell_type": "markdown",
      "metadata": {
        "id": "aaSrW27NUvEL",
        "colab_type": "text"
      },
      "source": [
        "# ***Assignment 2***"
      ]
    },
    {
      "cell_type": "code",
      "metadata": {
        "id": "VzcFh1lC004X",
        "colab_type": "code",
        "colab": {
          "base_uri": "https://localhost:8080/",
          "height": 54
        },
        "outputId": "4ff270ce-00c2-4892-9d78-90d97da7d044"
      },
      "source": [
        "# function for prime numbers and filter out btn 1 - 2500\n",
        "\n",
        "def primeNumber(number):\n",
        "    for tempNumber in range (2,number):\n",
        "      if (number % tempNumber == 0):\n",
        "        break\n",
        "    else:\n",
        "      return number\n",
        "\n",
        "\n",
        "lst = list(range(30000))\n",
        "prime = []\n",
        "prime = list(filter(lambda num: num < 2500 and  primeNumber(num) ,lst))\n",
        "print(prime)"
      ],
      "execution_count": null,
      "outputs": [
        {
          "output_type": "stream",
          "text": [
            "[1, 2, 3, 5, 7, 11, 13, 17, 19, 23, 29, 31, 37, 41, 43, 47, 53, 59, 61, 67, 71, 73, 79, 83, 89, 97, 101, 103, 107, 109, 113, 127, 131, 137, 139, 149, 151, 157, 163, 167, 173, 179, 181, 191, 193, 197, 199, 211, 223, 227, 229, 233, 239, 241, 251, 257, 263, 269, 271, 277, 281, 283, 293, 307, 311, 313, 317, 331, 337, 347, 349, 353, 359, 367, 373, 379, 383, 389, 397, 401, 409, 419, 421, 431, 433, 439, 443, 449, 457, 461, 463, 467, 479, 487, 491, 499, 503, 509, 521, 523, 541, 547, 557, 563, 569, 571, 577, 587, 593, 599, 601, 607, 613, 617, 619, 631, 641, 643, 647, 653, 659, 661, 673, 677, 683, 691, 701, 709, 719, 727, 733, 739, 743, 751, 757, 761, 769, 773, 787, 797, 809, 811, 821, 823, 827, 829, 839, 853, 857, 859, 863, 877, 881, 883, 887, 907, 911, 919, 929, 937, 941, 947, 953, 967, 971, 977, 983, 991, 997, 1009, 1013, 1019, 1021, 1031, 1033, 1039, 1049, 1051, 1061, 1063, 1069, 1087, 1091, 1093, 1097, 1103, 1109, 1117, 1123, 1129, 1151, 1153, 1163, 1171, 1181, 1187, 1193, 1201, 1213, 1217, 1223, 1229, 1231, 1237, 1249, 1259, 1277, 1279, 1283, 1289, 1291, 1297, 1301, 1303, 1307, 1319, 1321, 1327, 1361, 1367, 1373, 1381, 1399, 1409, 1423, 1427, 1429, 1433, 1439, 1447, 1451, 1453, 1459, 1471, 1481, 1483, 1487, 1489, 1493, 1499, 1511, 1523, 1531, 1543, 1549, 1553, 1559, 1567, 1571, 1579, 1583, 1597, 1601, 1607, 1609, 1613, 1619, 1621, 1627, 1637, 1657, 1663, 1667, 1669, 1693, 1697, 1699, 1709, 1721, 1723, 1733, 1741, 1747, 1753, 1759, 1777, 1783, 1787, 1789, 1801, 1811, 1823, 1831, 1847, 1861, 1867, 1871, 1873, 1877, 1879, 1889, 1901, 1907, 1913, 1931, 1933, 1949, 1951, 1973, 1979, 1987, 1993, 1997, 1999, 2003, 2011, 2017, 2027, 2029, 2039, 2053, 2063, 2069, 2081, 2083, 2087, 2089, 2099, 2111, 2113, 2129, 2131, 2137, 2141, 2143, 2153, 2161, 2179, 2203, 2207, 2213, 2221, 2237, 2239, 2243, 2251, 2267, 2269, 2273, 2281, 2287, 2293, 2297, 2309, 2311, 2333, 2339, 2341, 2347, 2351, 2357, 2371, 2377, 2381, 2383, 2389, 2393, 2399, 2411, 2417, 2423, 2437, 2441, 2447, 2459, 2467, 2473, 2477]\n"
          ],
          "name": "stdout"
        }
      ]
    },
    {
      "cell_type": "markdown",
      "metadata": {
        "id": "xlbXO9yDU07R",
        "colab_type": "text"
      },
      "source": [
        "# ***Assignment 3***"
      ]
    },
    {
      "cell_type": "code",
      "metadata": {
        "id": "MVKtuzA81Hvh",
        "colab_type": "code",
        "colab": {
          "base_uri": "https://localhost:8080/",
          "height": 34
        },
        "outputId": "46f98c42-8271-402b-e1e4-986d784b1d22"
      },
      "source": [
        "#make lambda funtion to capitalize each word \n",
        "#map all the sentance using lambda funtion\n",
        "\n",
        "import string\n",
        "\n",
        "lst = ['hello how are you','how is the class going on','what are you doing',\"i'm from tamilnadu\"]\n",
        "\n",
        "temp_lst = list (map(lambda str : string.capwords(str), lst))\n",
        "\n",
        "print(temp_lst)"
      ],
      "execution_count": null,
      "outputs": [
        {
          "output_type": "stream",
          "text": [
            "['Hello How Are You', 'How Is The Class Going On', 'What Are You Doing', \"I'm From Tamilnadu\"]\n"
          ],
          "name": "stdout"
        }
      ]
    }
  ]
}